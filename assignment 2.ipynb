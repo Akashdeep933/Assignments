{
 "cells": [
  {
   "cell_type": "markdown",
   "id": "9898df08-864a-4e85-88c9-525f22a4b990",
   "metadata": {},
   "source": [
    "# 1\n",
    "#to comment in python we have to put a # symbol before it\n",
    "#there are 2 type of comments 'single line comment','multi line comments'."
   ]
  },
  {
   "cell_type": "markdown",
   "id": "ff1940e0-7c3b-4d5f-bf63-33de173d657c",
   "metadata": {
    "jp-MarkdownHeadingCollapsed": true,
    "tags": []
   },
   "source": [
    "#2\n",
    "variables are just a name of a code.\n",
    "they are assigned by = symbol"
   ]
  },
  {
   "cell_type": "code",
   "execution_count": 13,
   "id": "dd32e034-40ec-40bb-b199-18c96fb41480",
   "metadata": {},
   "outputs": [],
   "source": [
    "#3\n",
    "#from str to int give a new variable then reassign the value by int.\n",
    "a=\"123\"\n",
    "b=int(a)"
   ]
  },
  {
   "cell_type": "code",
   "execution_count": 18,
   "id": "95ae1bc8-3294-4922-9006-b6d7f8dcd506",
   "metadata": {},
   "outputs": [],
   "source": [
    "#5\n",
    "my_list=[1,2,3,4,5]\n",
    "sub_list=my_list[1:3]"
   ]
  },
  {
   "cell_type": "code",
   "execution_count": null,
   "id": "2d9bafd7-cd1f-4fba-b613-b9e6d8ea4131",
   "metadata": {},
   "outputs": [],
   "source": [
    "#6\n",
    "a=3+2j"
   ]
  },
  {
   "cell_type": "code",
   "execution_count": 6,
   "id": "9aba8a8b-f31e-432b-ac82-0826b5c39d14",
   "metadata": {},
   "outputs": [],
   "source": [
    "#7\n",
    "age=25"
   ]
  },
  {
   "cell_type": "code",
   "execution_count": 7,
   "id": "be4a3319-bb4b-4669-a9fa-4fc98a5e570a",
   "metadata": {},
   "outputs": [],
   "source": [
    "#8\n",
    "price=9.99\n",
    "type (price)\n",
    "float\n"
   ]
  },
  {
   "cell_type": "code",
   "execution_count": 9,
   "id": "b21c4d60-e204-4b2d-b182-3ed227627dc5",
   "metadata": {},
   "outputs": [
    {
     "name": "stdout",
     "output_type": "stream",
     "text": [
      "Akashdeep Sahoo\n"
     ]
    }
   ],
   "source": [
    "#9\n",
    "name=\"Akashdeep Sahoo\"\n",
    "print(name)\n"
   ]
  },
  {
   "cell_type": "code",
   "execution_count": 19,
   "id": "7d18d48f-134d-4faa-abdc-78059fca9a1c",
   "metadata": {},
   "outputs": [
    {
     "data": {
      "text/plain": [
       "'World'"
      ]
     },
     "execution_count": 19,
     "metadata": {},
     "output_type": "execute_result"
    }
   ],
   "source": [
    "#10\n",
    "a=\"Hello,World!\"\n",
    "a[6:11:1]"
   ]
  },
  {
   "cell_type": "code",
   "execution_count": 21,
   "id": "346a3f58-8ae6-4558-b480-d5b33ce6616c",
   "metadata": {},
   "outputs": [
    {
     "name": "stdout",
     "output_type": "stream",
     "text": [
      "True\n"
     ]
    }
   ],
   "source": [
    "#11\n",
    "is_student= True\n",
    "print(is_student)"
   ]
  },
  {
   "cell_type": "code",
   "execution_count": null,
   "id": "3c7be62b-ee81-4278-9140-aab30b71872f",
   "metadata": {},
   "outputs": [],
   "source": []
  }
 ],
 "metadata": {
  "kernelspec": {
   "display_name": "Python 3 (ipykernel)",
   "language": "python",
   "name": "python3"
  },
  "language_info": {
   "codemirror_mode": {
    "name": "ipython",
    "version": 3
   },
   "file_extension": ".py",
   "mimetype": "text/x-python",
   "name": "python",
   "nbconvert_exporter": "python",
   "pygments_lexer": "ipython3",
   "version": "3.10.8"
  }
 },
 "nbformat": 4,
 "nbformat_minor": 5
}
