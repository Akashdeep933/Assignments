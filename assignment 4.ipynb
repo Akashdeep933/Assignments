{
 "cells": [
  {
   "cell_type": "code",
   "execution_count": null,
   "id": "7129f759-018f-4821-8c98-867eb6764174",
   "metadata": {},
   "outputs": [],
   "source": [
    "'''Q1. Create a python program to sort the given list of tuples based on integer value using a\n",
    "lambda function.\n",
    "[('Sachin Tendulkar', 34357), ('Ricky Ponting', 27483), ('Jack Kallis', 25534), ('Virat Kohli', 24936)]'''\n",
    "\n",
    "a=[('Sachin Tendulkar', 34357), ('Ricky Ponting', 27483), ('Jack Kallis', 25534), ('Virat Kohli', 24936)]\n",
    "a.sort(key=lambda x:x[1])\n",
    "print(a)"
   ]
  },
  {
   "cell_type": "code",
   "execution_count": null,
   "id": "38dd0625-92f1-4824-b1be-911e6d5258a7",
   "metadata": {},
   "outputs": [],
   "source": [
    "'''Q2. Write a Python Program to find the squares of all the numbers in the given list of integers using\n",
    "lambda and map functions.'''\n",
    "\n",
    "a=[1, 2, 3, 4, 5, 6, 7, 8, 9, 10]\n",
    "list(map(lambda x:x**2,a))"
   ]
  },
  {
   "cell_type": "code",
   "execution_count": null,
   "id": "b8e0598f-168c-4060-968a-e6104892ee5f",
   "metadata": {},
   "outputs": [],
   "source": [
    "'''Q3. Write a python program to convert the given list of integers into a tuple of strings. Use map and\n",
    "lambda functions Given String: [1, 2, 3, 4, 5, 6, 7, 8, 9, 10]\n",
    "Expected output: ('1', '2', '3', '4', '5', '6', '7', '8', '9', '10')'''\n",
    "\n",
    "tuple(map(lambda x:str(x),[1, 2, 3, 4, 5, 6, 7, 8, 9, 10]))"
   ]
  },
  {
   "cell_type": "code",
   "execution_count": null,
   "id": "f56cf095-32cc-40e6-8888-a8a5ba942fb3",
   "metadata": {},
   "outputs": [],
   "source": [
    "'''Q4. Write a python program using reduce function to compute the product of a list containing numbers\n",
    "from 1 to 25.'''\n",
    "\n",
    "from functools import reduce\n",
    "reduce(lambda x,y:x*y,range(1,26))"
   ]
  },
  {
   "cell_type": "code",
   "execution_count": null,
   "id": "589a7964-34a3-466d-89d7-06b5a192f5b4",
   "metadata": {},
   "outputs": [],
   "source": [
    "'''Q5. Write a python program to filter the numbers in a given list that are divisible by 2 and 3 using the\n",
    "filter function.[2, 3, 6, 9, 27, 60, 90, 120, 55, 46]'''\n",
    "\n",
    "a=[2, 3, 6, 9, 27, 60, 90, 120, 55, 46]\n",
    "list(filter(lambda x:x%6==0,a))\n"
   ]
  },
  {
   "cell_type": "code",
   "execution_count": null,
   "id": "a83bd4c0-851c-4854-9300-59d1fc178b3f",
   "metadata": {},
   "outputs": [],
   "source": [
    "'''Q6. Write a python program to find palindromes in the given list of strings using lambda and filter\n",
    "function.\n",
    "['python', 'php', 'aba', 'radar', 'level']'''\n",
    "\n",
    "def ak(s):\n",
    "    return s == s[::-1]\n",
    "\n",
    "z= ['python', 'php', 'aba', 'radar', 'level']\n",
    "\n",
    "x= list(filter(lambda x: ak(x), z))\n",
    "\n",
    "print(\"Palindromes in the list:\", x)"
   ]
  }
 ],
 "metadata": {
  "kernelspec": {
   "display_name": "Python 3 (ipykernel)",
   "language": "python",
   "name": "python3"
  },
  "language_info": {
   "codemirror_mode": {
    "name": "ipython",
    "version": 3
   },
   "file_extension": ".py",
   "mimetype": "text/x-python",
   "name": "python",
   "nbconvert_exporter": "python",
   "pygments_lexer": "ipython3",
   "version": "3.10.8"
  }
 },
 "nbformat": 4,
 "nbformat_minor": 5
}
