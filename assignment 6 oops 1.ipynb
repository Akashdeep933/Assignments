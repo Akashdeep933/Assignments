{
 "cells": [
  {
   "cell_type": "code",
   "execution_count": 1,
   "id": "767b1559-339f-447e-b95b-b2d713726120",
   "metadata": {},
   "outputs": [],
   "source": [
    "###Q1. Explain Class and Object with respect to Object-Oriented Programming. Give a suitable example."
   ]
  },
  {
   "cell_type": "code",
   "execution_count": 2,
   "id": "e020c2a7-513a-46a2-b9a3-5782097fffe9",
   "metadata": {},
   "outputs": [
    {
     "data": {
      "text/plain": [
       "'class is a blueprint of many functions.'"
      ]
     },
     "execution_count": 2,
     "metadata": {},
     "output_type": "execute_result"
    }
   ],
   "source": [
    "\"\"\"class is a blueprint of many functions.\"\"\""
   ]
  },
  {
   "cell_type": "code",
   "execution_count": 3,
   "id": "d91975ae-bd08-4f45-8eca-1aa51bfd8049",
   "metadata": {},
   "outputs": [],
   "source": [
    "###Q2. Name the four pillars of OOPs."
   ]
  },
  {
   "cell_type": "code",
   "execution_count": null,
   "id": "4a5b87f7-e6cc-40d7-98e2-9a67d1a92bca",
   "metadata": {},
   "outputs": [],
   "source": [
    "\"\"\"Abstraction.\n",
    "Encapsulation.\n",
    "Inheritance.\n",
    "Polymorphism.\"\"\"\n"
   ]
  },
  {
   "cell_type": "code",
   "execution_count": 4,
   "id": "c049d0d0-74f7-4cf5-9edb-7a01e5041a7f",
   "metadata": {},
   "outputs": [],
   "source": [
    "###Q3. Explain why the __init__() function is used. Give a suitable example."
   ]
  },
  {
   "cell_type": "code",
   "execution_count": 17,
   "id": "40f075da-8fa4-4f5b-b07b-9040346490eb",
   "metadata": {},
   "outputs": [],
   "source": [
    "\"\"\"__init__ is used to pass data in class.\"\"\"\n",
    "class pwskills:\n",
    "    def __init__(self,name,number):\n",
    "        self.name=name\n",
    "        self.number=number\n",
    "        print (\"here is the students name and number\",[name,number])"
   ]
  },
  {
   "cell_type": "code",
   "execution_count": 18,
   "id": "79016776-dc49-45ff-bd2b-d4ee2348e01d",
   "metadata": {},
   "outputs": [
    {
     "name": "stdout",
     "output_type": "stream",
     "text": [
      "here is the students name and number ['akash', 6645645]\n"
     ]
    }
   ],
   "source": [
    "batch2=pwskills(\"akash\",6645645)"
   ]
  },
  {
   "cell_type": "code",
   "execution_count": 20,
   "id": "2f72290e-e717-4191-9eef-cfb0c7be314e",
   "metadata": {},
   "outputs": [],
   "source": [
    "###Q4. Why self is used in OOPs?"
   ]
  },
  {
   "cell_type": "code",
   "execution_count": null,
   "id": "1cf10848-598c-4a65-9d92-51dbbcc07bbe",
   "metadata": {},
   "outputs": [],
   "source": [
    "\"\"\"by using self we can bind atributes and functions in a class\"\"\""
   ]
  },
  {
   "cell_type": "code",
   "execution_count": 22,
   "id": "0a9054f5-901d-47ac-abc1-ebe946a5c1ff",
   "metadata": {},
   "outputs": [],
   "source": [
    "###Q5. What is inheritance? Give an example for each type of inheritance."
   ]
  },
  {
   "cell_type": "code",
   "execution_count": null,
   "id": "06e92346-d3cc-4154-abf1-08fa80435f63",
   "metadata": {},
   "outputs": [],
   "source": [
    "\"\"\"inheritance is used to less coding ,it is used to reuse a code without recoding it\"\"\""
   ]
  },
  {
   "cell_type": "code",
   "execution_count": 27,
   "id": "c3899755-8637-4b5e-97a0-85e67a86e4fa",
   "metadata": {},
   "outputs": [],
   "source": [
    "class class1:\n",
    "    def test1(self):\n",
    "        return\"this is my class 1\"\n",
    "class class2(class1):\n",
    "    def test2(self):\n",
    "        return\"this is my class 2.\"\n",
    "class class3(class2):\n",
    "    def test3(self):\n",
    "        return\"this is my class 3\""
   ]
  },
  {
   "cell_type": "code",
   "execution_count": 28,
   "id": "85837c71-bff8-468d-9e07-6c65600f9904",
   "metadata": {},
   "outputs": [],
   "source": [
    "akash=class3"
   ]
  },
  {
   "cell_type": "code",
   "execution_count": null,
   "id": "4a1adb84-f4e1-40ce-a150-20e0c712fe65",
   "metadata": {},
   "outputs": [],
   "source": [
    "akash. \"\"\"here by pressing tab button we can access all three classes\"\"\""
   ]
  }
 ],
 "metadata": {
  "kernelspec": {
   "display_name": "Python 3 (ipykernel)",
   "language": "python",
   "name": "python3"
  },
  "language_info": {
   "codemirror_mode": {
    "name": "ipython",
    "version": 3
   },
   "file_extension": ".py",
   "mimetype": "text/x-python",
   "name": "python",
   "nbconvert_exporter": "python",
   "pygments_lexer": "ipython3",
   "version": "3.10.8"
  }
 },
 "nbformat": 4,
 "nbformat_minor": 5
}
