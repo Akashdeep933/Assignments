{
 "cells": [
  {
   "cell_type": "code",
   "execution_count": 1,
   "id": "f955a3cb-e53c-40bf-b56e-89936a9672fa",
   "metadata": {},
   "outputs": [],
   "source": [
    "###Q1, Create a vehicle class with an init method having instance variables as name_of_vehicle, max_speed and average_of_vehicle."
   ]
  },
  {
   "cell_type": "code",
   "execution_count": 29,
   "id": "692274f3-b427-46d3-b26a-67bc53f44046",
   "metadata": {},
   "outputs": [],
   "source": [
    "class vehicle:\n",
    "    def __init__(self,name_of_vehicle,max_speed,average_of_vehicle):\n",
    "        self.name_of_vehicle=name_of_vehicle\n",
    "        self.max_speed=max_speed\n",
    "        self.average_of_vehicle=average_of_vehicle\n",
    "    "
   ]
  },
  {
   "cell_type": "code",
   "execution_count": 30,
   "id": "61667e9d-6396-49b2-95b6-151c862ee654",
   "metadata": {},
   "outputs": [],
   "source": [
    "tata=vehicle(\"naxon\",120,15)"
   ]
  },
  {
   "cell_type": "code",
   "execution_count": 32,
   "id": "bc226819-a916-43bb-94dc-e34488cc6b5a",
   "metadata": {},
   "outputs": [
    {
     "data": {
      "text/plain": [
       "15"
      ]
     },
     "execution_count": 32,
     "metadata": {},
     "output_type": "execute_result"
    }
   ],
   "source": [
    "tata.average_of_vehicle"
   ]
  },
  {
   "cell_type": "code",
   "execution_count": 33,
   "id": "4992ba10-df99-4c44-b660-04f8d0895271",
   "metadata": {},
   "outputs": [],
   "source": [
    "mahindra=vehicle(\"thar\",80,18)"
   ]
  },
  {
   "cell_type": "code",
   "execution_count": 34,
   "id": "9b579cbf-9112-47b1-a654-78109559a71d",
   "metadata": {},
   "outputs": [
    {
     "data": {
      "text/plain": [
       "80"
      ]
     },
     "execution_count": 34,
     "metadata": {},
     "output_type": "execute_result"
    }
   ],
   "source": [
    "mahindra.max_speed"
   ]
  },
  {
   "cell_type": "code",
   "execution_count": 25,
   "id": "ffa127ec-bbc3-4fe5-89ae-64757bf91242",
   "metadata": {},
   "outputs": [],
   "source": [
    "###Q2. Create a child class car from the vehicle class created in Que 1, which will inherit the vehicle class.\n",
    "###Create a method named seating_capacity which takes capacity as an argument and returns the name of\n",
    "###the vehicle and its seating capacity."
   ]
  },
  {
   "cell_type": "code",
   "execution_count": 47,
   "id": "8c89d89e-d856-45ab-b2eb-00941f64773d",
   "metadata": {},
   "outputs": [],
   "source": [
    "class car(vehicle):\n",
    "    def __init__(self,name_of_vehicle,max_speed,average_of_vehicle,seating_capacity):\n",
    "        super().__init__(name_of_vehicle,max_speed,average_of_vehicle)\n",
    "        self.seating_capacity=seating_capacity\n",
    "        \n",
    "    def vehicle_details(self):\n",
    "        return self.name_of_vehicle,self.seating_capacity"
   ]
  },
  {
   "cell_type": "code",
   "execution_count": 52,
   "id": "e1682776-071f-49da-8064-adb1813ce282",
   "metadata": {},
   "outputs": [],
   "source": [
    "cars=car(\"audi\",200,12,4)"
   ]
  },
  {
   "cell_type": "code",
   "execution_count": 53,
   "id": "fcc1bc1e-5271-481c-9c4e-b95d2a152d15",
   "metadata": {},
   "outputs": [
    {
     "data": {
      "text/plain": [
       "('audi', 4)"
      ]
     },
     "execution_count": 53,
     "metadata": {},
     "output_type": "execute_result"
    }
   ],
   "source": [
    "cars.vehicle_details()"
   ]
  },
  {
   "cell_type": "code",
   "execution_count": 38,
   "id": "f5ab5795-c125-4b24-93ac-3947ee12184e",
   "metadata": {},
   "outputs": [],
   "source": [
    "###Q3. What is multiple inheritance? Write a python code to demonstrate multiple inheritance."
   ]
  },
  {
   "cell_type": "code",
   "execution_count": null,
   "id": "4862a727-67e7-4770-9e82-8355b1fca5a2",
   "metadata": {},
   "outputs": [
    {
     "data": {
      "text/plain": [
       "'multiple inheritance is to reuse multiple classes without recoading it'"
      ]
     },
     "execution_count": 40,
     "metadata": {},
     "output_type": "execute_result"
    }
   ],
   "source": [
    "\"\"\"multiple inheritance is to reuse multiple classes without recoading it\"\"\""
   ]
  },
  {
   "cell_type": "code",
   "execution_count": 59,
   "id": "fce2062b-3e33-4467-8870-c555efe2c1d7",
   "metadata": {},
   "outputs": [],
   "source": [
    "class class1:\n",
    "    def test1(self):\n",
    "        return\"this is my class1\""
   ]
  },
  {
   "cell_type": "code",
   "execution_count": 60,
   "id": "5e6a293b-eb50-45a5-818d-2194e5fc7374",
   "metadata": {},
   "outputs": [],
   "source": [
    "class class2:\n",
    "    def test2(self):\n",
    "        return\"this is my class 2\""
   ]
  },
  {
   "cell_type": "code",
   "execution_count": 61,
   "id": "f4ccc160-5879-41a5-b638-22490b057e67",
   "metadata": {},
   "outputs": [],
   "source": [
    "class class3 (class1,class2):\n",
    "    pass"
   ]
  },
  {
   "cell_type": "code",
   "execution_count": 62,
   "id": "264d447f-101c-4f47-ad5a-7f26fa6680fe",
   "metadata": {},
   "outputs": [
    {
     "data": {
      "text/plain": [
       "'this is my class1'"
      ]
     },
     "execution_count": 62,
     "metadata": {},
     "output_type": "execute_result"
    }
   ],
   "source": [
    "akash= class3()\n",
    "akash.test1()"
   ]
  },
  {
   "cell_type": "code",
   "execution_count": 1,
   "id": "e3dc9d76-f7e6-4839-aae8-3db0806edc92",
   "metadata": {},
   "outputs": [],
   "source": [
    "###Q4. What are getter and setter in python? Create a class and create a getter and a setter method in this class."
   ]
  },
  {
   "cell_type": "code",
   "execution_count": null,
   "id": "62c7c9cf-4bf2-4123-bcb2-24d2120defd5",
   "metadata": {},
   "outputs": [],
   "source": [
    "\"\"\"setter is a predefined function  in python which is used to set a new value to the function.\"\"\"\n"
   ]
  },
  {
   "cell_type": "code",
   "execution_count": 36,
   "id": "099a4a0c-69c7-44dc-ae30-7bab5ee2c38c",
   "metadata": {},
   "outputs": [],
   "source": [
    "class foods:\n",
    "    def __init__(self,on_price,name):\n",
    "        self.__on_price=on_price\n",
    "        self.name=name\n",
    "    @property\n",
    "    def price_access(self):\n",
    "        return self.__on_price\n",
    "    @price_access.setter\n",
    "    def change_price(self,price):\n",
    "        if price<=50:\n",
    "            self.__on_price=price\n",
    "        else:\n",
    "            print(\"this is over priced\")"
   ]
  },
  {
   "cell_type": "code",
   "execution_count": 37,
   "id": "2fbc5bcf-f601-444a-ad73-da315c4f655f",
   "metadata": {},
   "outputs": [],
   "source": [
    "store=foods(40,\"noodles\")"
   ]
  },
  {
   "cell_type": "code",
   "execution_count": 40,
   "id": "e439da58-53c7-4d32-84a1-95ca9253feb3",
   "metadata": {},
   "outputs": [
    {
     "name": "stdout",
     "output_type": "stream",
     "text": [
      "this is over priced\n"
     ]
    }
   ],
   "source": [
    "store.change_price=90"
   ]
  },
  {
   "cell_type": "code",
   "execution_count": 41,
   "id": "67bd9b5e-b0e2-402f-a3db-51c216d9a267",
   "metadata": {},
   "outputs": [],
   "source": [
    "###Q5.What is method overriding in python? Write a python code to demonstrate method overriding."
   ]
  },
  {
   "cell_type": "code",
   "execution_count": null,
   "id": "d0512aa6-f6fd-419f-8dce-1749e0923713",
   "metadata": {},
   "outputs": [],
   "source": [
    "\"\"\"method overriding is the process by which we can use a same method with diffrent works , it is also called as pollymorphisim,\"\"\" "
   ]
  },
  {
   "cell_type": "code",
   "execution_count": 3,
   "id": "3742c4dc-ec57-49f6-9197-04c251f17d5d",
   "metadata": {},
   "outputs": [],
   "source": [
    "class school:\n",
    "    def akash(self):\n",
    "        print (\"he is a student\")\n",
    "class playground:\n",
    "    def akash(self):\n",
    "        print(\"he is a player\")\n",
    "def life (x):\n",
    "    for i in x:\n",
    "      i.akash(x)"
   ]
  },
  {
   "cell_type": "code",
   "execution_count": 5,
   "id": "9fa3e8e4-c4ae-46f5-8a92-075e977c4d70",
   "metadata": {},
   "outputs": [
    {
     "name": "stdout",
     "output_type": "stream",
     "text": [
      "he is a student\n",
      "he is a player\n"
     ]
    }
   ],
   "source": [
    "a1=school\n",
    "a2=playground\n",
    "x=(a1,a2)\n",
    "life(x)"
   ]
  }
 ],
 "metadata": {
  "kernelspec": {
   "display_name": "Python 3 (ipykernel)",
   "language": "python",
   "name": "python3"
  },
  "language_info": {
   "codemirror_mode": {
    "name": "ipython",
    "version": 3
   },
   "file_extension": ".py",
   "mimetype": "text/x-python",
   "name": "python",
   "nbconvert_exporter": "python",
   "pygments_lexer": "ipython3",
   "version": "3.10.8"
  }
 },
 "nbformat": 4,
 "nbformat_minor": 5
}
