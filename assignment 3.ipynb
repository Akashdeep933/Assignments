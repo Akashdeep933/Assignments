{
 "cells": [
  {
   "cell_type": "code",
   "execution_count": 6,
   "id": "6f2794b2-5653-4bb6-989e-442bda7d1cfb",
   "metadata": {},
   "outputs": [
    {
     "data": {
      "text/plain": [
       "'Q1. Which keyword is used to create a function? Create a function to return a list of odd numbers in the\\nrange of 1 to 25.'"
      ]
     },
     "execution_count": 6,
     "metadata": {},
     "output_type": "execute_result"
    }
   ],
   "source": [
    "'''Q1. Which keyword is used to create a function? Create a function to return a list of odd numbers in the\n",
    "range of 1 to 25.'''"
   ]
  },
  {
   "cell_type": "code",
   "execution_count": null,
   "id": "7a64f1f0-7220-41f7-98ee-5c59205aa3c7",
   "metadata": {},
   "outputs": [],
   "source": [
    "def oddno():\n",
    "    a1=[]\n",
    "    for i in range (1,25):\n",
    "        if i%2 !=0:\n",
    "            a1.append(i)\n",
    "    return a1\n",
    "oddno()"
   ]
  },
  {
   "cell_type": "code",
   "execution_count": 7,
   "id": "debd57cd-b3ad-4426-a64d-68b3d9589f55",
   "metadata": {},
   "outputs": [
    {
     "data": {
      "text/plain": [
       "'Q2. Why *args and **kwargs is used in some functions? Create a function each for *args and **kwargs\\nto demonstrate their use.'"
      ]
     },
     "execution_count": 7,
     "metadata": {},
     "output_type": "execute_result"
    }
   ],
   "source": [
    "'''Q2. Why *args and **kwargs is used in some functions? Create a function each for *args and **kwargs\n",
    "to demonstrate their use.'''"
   ]
  },
  {
   "cell_type": "code",
   "execution_count": 8,
   "id": "66ef86ca-8b9b-4665-9464-054ea4b0f809",
   "metadata": {},
   "outputs": [],
   "source": [
    "## *args are use to add data as our wish in a function,here we can overwrite data easily\n",
    "def demo1(*args):\n",
    "    return args"
   ]
  },
  {
   "cell_type": "code",
   "execution_count": 12,
   "id": "3fbdd992-f3ed-431b-ae8a-d6ded7d7ea63",
   "metadata": {},
   "outputs": [
    {
     "data": {
      "text/plain": [
       "(1, 2, 3)"
      ]
     },
     "execution_count": 12,
     "metadata": {},
     "output_type": "execute_result"
    }
   ],
   "source": [
    "demo1(1,2,3)"
   ]
  },
  {
   "cell_type": "code",
   "execution_count": 13,
   "id": "9fd2cb46-7323-44af-af16-07f8e63de977",
   "metadata": {},
   "outputs": [
    {
     "data": {
      "text/plain": [
       "(6, 5, 7)"
      ]
     },
     "execution_count": 13,
     "metadata": {},
     "output_type": "execute_result"
    }
   ],
   "source": [
    "demo1(6,5,7)"
   ]
  },
  {
   "cell_type": "code",
   "execution_count": 15,
   "id": "41624746-279e-4548-9c18-18f9faef0164",
   "metadata": {},
   "outputs": [
    {
     "data": {
      "text/plain": [
       "'Q3. What is an iterator in python? Name the method used to initialise the iterator object and the method\\nused for iteration. Use these methods to print the first five elements of the given list [2, 4, 6, 8, 10, 12, 14,16, 18, 20].'"
      ]
     },
     "execution_count": 15,
     "metadata": {},
     "output_type": "execute_result"
    }
   ],
   "source": [
    "'''Q3. What is an iterator in python? Name the method used to initialise the iterator object and the method\n",
    "used for iteration. Use these methods to print the first five elements of the given list [2, 4, 6, 8, 10, 12, 14,16, 18, 20].''' "
   ]
  },
  {
   "cell_type": "code",
   "execution_count": null,
   "id": "7d1d2bae-a2db-40b4-bd13-107dbb8542e2",
   "metadata": {},
   "outputs": [],
   "source": [
    "##iterator is an object used to iterate data from list or set\n",
    "a=[2,4, 6, 8, 10, 12, 14,16, 18, 20]\n",
    "count=0\n",
    "for i in a:\n",
    "    if count<5:\n",
    "        print (i)\n",
    "        count+=1"
   ]
  },
  {
   "cell_type": "code",
   "execution_count": 16,
   "id": "7aaef2b2-57b4-4032-b873-eafaa2f0f5df",
   "metadata": {},
   "outputs": [
    {
     "data": {
      "text/plain": [
       "'Q4. What is a generator function in python? Why yield keyword is used? Give an example of a generator\\nfunction.'"
      ]
     },
     "execution_count": 16,
     "metadata": {},
     "output_type": "execute_result"
    }
   ],
   "source": [
    "'''Q4. What is a generator function in python? Why yield keyword is used? Give an example of a generator\n",
    "function.'''"
   ]
  },
  {
   "cell_type": "code",
   "execution_count": null,
   "id": "fffc191b-7954-4853-9742-3f698f0b1b40",
   "metadata": {},
   "outputs": [],
   "source": [
    "#yield keyword is use to make generator functions.\n",
    "def demo5(n):\n",
    "    a,b=0,1\n",
    "    for i in range(n):\n",
    "        yield a\n",
    "        a,b=b,a+b\n",
    "for i in demo5(20):\n",
    "    print (i)"
   ]
  },
  {
   "cell_type": "code",
   "execution_count": 20,
   "id": "c34f387c-fc8d-4ca7-8da8-46d886683ade",
   "metadata": {},
   "outputs": [
    {
     "data": {
      "text/plain": [
       "\"Q7. Write a List Comprehension to iterate through the given string: ‘pwskills’.Expected output: ['p', 'w', 's', 'k', 'i', 'l', 'l', 's']\""
      ]
     },
     "execution_count": 20,
     "metadata": {},
     "output_type": "execute_result"
    }
   ],
   "source": [
    "'''Q7. Write a List Comprehension to iterate through the given string: ‘pwskills’.Expected output: ['p', 'w', 's', 'k', 'i', 'l', 'l', 's']'''"
   ]
  },
  {
   "cell_type": "code",
   "execution_count": null,
   "id": "33601232-52d0-4238-a2e2-a988c8884e3a",
   "metadata": {},
   "outputs": [],
   "source": [
    "a=list(map(lambda x: x,\"pwskills\"))\n",
    "print(a)"
   ]
  },
  {
   "cell_type": "code",
   "execution_count": 21,
   "id": "696dc262-99c8-4022-a818-8d88fd058d33",
   "metadata": {},
   "outputs": [
    {
     "data": {
      "text/plain": [
       "'Q9. Write a code to print odd numbers from 1 to 100 using list comprehension.'"
      ]
     },
     "execution_count": 21,
     "metadata": {},
     "output_type": "execute_result"
    }
   ],
   "source": [
    "'''Q9. Write a code to print odd numbers from 1 to 100 using list comprehension.'''"
   ]
  },
  {
   "cell_type": "code",
   "execution_count": null,
   "id": "f46f99ed-db61-427c-917c-6f74b529868d",
   "metadata": {},
   "outputs": [],
   "source": [
    "[ a for a in range(1,100) if a%2!=0]"
   ]
  }
 ],
 "metadata": {
  "kernelspec": {
   "display_name": "Python 3 (ipykernel)",
   "language": "python",
   "name": "python3"
  },
  "language_info": {
   "codemirror_mode": {
    "name": "ipython",
    "version": 3
   },
   "file_extension": ".py",
   "mimetype": "text/x-python",
   "name": "python",
   "nbconvert_exporter": "python",
   "pygments_lexer": "ipython3",
   "version": "3.10.8"
  }
 },
 "nbformat": 4,
 "nbformat_minor": 5
}
